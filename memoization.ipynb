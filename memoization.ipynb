{
  "nbformat": 4,
  "nbformat_minor": 0,
  "metadata": {
    "colab": {
      "provenance": [],
      "authorship_tag": "ABX9TyM3zUn2aIoUeqBLKBhAXRvc",
      "include_colab_link": true
    },
    "kernelspec": {
      "name": "python3",
      "display_name": "Python 3"
    },
    "language_info": {
      "name": "python"
    }
  },
  "cells": [
    {
      "cell_type": "markdown",
      "metadata": {
        "id": "view-in-github",
        "colab_type": "text"
      },
      "source": [
        "<a href=\"https://colab.research.google.com/github/FrozenFalcon-Byte/Memoization-demo/blob/main/memoization.ipynb\" target=\"_parent\"><img src=\"https://colab.research.google.com/assets/colab-badge.svg\" alt=\"Open In Colab\"/></a>"
      ]
    },
    {
      "cell_type": "code",
      "execution_count": 3,
      "metadata": {
        "id": "bUc81FUQ9TEc"
      },
      "outputs": [],
      "source": [
        "def fibo(n):\n",
        "  if n == 1 or n == 0:\n",
        "    return 1\n",
        "  else:\n",
        "    return fibo(n-1) + fibo(n-2)"
      ]
    },
    {
      "cell_type": "code",
      "source": [
        "import time"
      ],
      "metadata": {
        "id": "vDcJqH4BAPh2"
      },
      "execution_count": 13,
      "outputs": []
    },
    {
      "cell_type": "code",
      "source": [
        "start = time.time()\n",
        "fibo(40)\n",
        "print(time.time() - start)"
      ],
      "metadata": {
        "colab": {
          "base_uri": "https://localhost:8080/"
        },
        "id": "kryG0wNT9nqs",
        "outputId": "ce424c39-cfb1-49fc-e76d-caebf54d9f9a"
      },
      "execution_count": 24,
      "outputs": [
        {
          "output_type": "stream",
          "name": "stdout",
          "text": [
            "26.511169910430908\n"
          ]
        }
      ]
    },
    {
      "cell_type": "code",
      "source": [
        "# but that code is trash"
      ],
      "metadata": {
        "id": "7O_BXSbI9qJ-"
      },
      "execution_count": 9,
      "outputs": []
    },
    {
      "cell_type": "code",
      "source": [
        "# it would take ages to run"
      ],
      "metadata": {
        "id": "_FN3BCvU_woE"
      },
      "execution_count": 10,
      "outputs": []
    },
    {
      "cell_type": "code",
      "source": [
        "# here's a more versatile code\n",
        "\n",
        "def fib(n,d):\n",
        "  if n in d:\n",
        "    return d[n]\n",
        "  else:\n",
        "    d[n] = fib(n-1, d) + fib(n-2, d)\n",
        "    return d[n]"
      ],
      "metadata": {
        "id": "pGCCmd2W_ynz"
      },
      "execution_count": 21,
      "outputs": []
    },
    {
      "cell_type": "code",
      "source": [
        "d1 = {0:1, 1:1}\n",
        "start = time.time()\n",
        "fib(100, d1)\n",
        "print(time.time() - start)"
      ],
      "metadata": {
        "colab": {
          "base_uri": "https://localhost:8080/"
        },
        "id": "8siZQNXG_-K5",
        "outputId": "641fcbd0-08d9-47e3-808b-1dc17a65cda0"
      },
      "execution_count": 27,
      "outputs": [
        {
          "output_type": "stream",
          "name": "stdout",
          "text": [
            "0.00017762184143066406\n"
          ]
        }
      ]
    },
    {
      "cell_type": "code",
      "source": [
        "# now see the time difference\n",
        "# its a lot\n",
        "# like a lot a lot"
      ],
      "metadata": {
        "id": "Xqq3d_-zAbj1"
      },
      "execution_count": 23,
      "outputs": []
    },
    {
      "cell_type": "code",
      "source": [],
      "metadata": {
        "id": "Ln9TNvIEAvUl"
      },
      "execution_count": null,
      "outputs": []
    }
  ]
}